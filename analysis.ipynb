{
  "nbformat": 4,
  "nbformat_minor": 0,
  "metadata": {
    "colab": {
      "name": "analysis.ipynb",
      "provenance": [],
      "collapsed_sections": []
    },
    "kernelspec": {
      "name": "python3",
      "display_name": "Python 3"
    },
    "language_info": {
      "name": "python"
    }
  },
  "cells": [
    {
      "cell_type": "code",
      "metadata": {
        "id": "sCcYvXZK_JMs"
      },
      "source": [
        "#%%\n",
        "import pandas as pd\n",
        "import pylab as pl\n",
        "import numpy as np\n",
        "from mlxtend.plotting import scatterplotmatrix\n",
        "from sklearn.preprocessing import MinMaxScaler\n",
        "from sklearn.preprocessing import PolynomialFeatures\n",
        "from sklearn import linear_model\n",
        "import scipy.optimize as opt\n",
        "from sklearn import preprocessing\n",
        "from sklearn.impute import SimpleImputer as simple_imputer\n",
        "from sklearn.metrics import r2_score\n",
        "%matplotlib inline \n",
        "import matplotlib.pyplot as plt\n",
        "\n",
        "\n",
        "poke = pd.read_csv('pokedex.csv')"
      ],
      "execution_count": null,
      "outputs": []
    },
    {
      "cell_type": "code",
      "metadata": {
        "id": "V46LOPOXVljs"
      },
      "source": [
        "# Create quadratic Feature model\n",
        "quad = PolynomialFeatures(degree=2)\n",
        "# Create cubic Feature model\n",
        "cube = PolynomialFeatures(degree=3)"
      ],
      "execution_count": null,
      "outputs": []
    },
    {
      "cell_type": "code",
      "metadata": {
        "id": "n7k44hZX_PT8"
      },
      "source": [
        "# grouping pokemon by type\n",
        "fire_types = poke.loc[poke['type_1'] == \"Fire\"]\n",
        "water_types = poke.loc[poke['type_1'] == \"Water\"]\n",
        "grass_types = poke.loc[poke['type_1'] == \"Grass\"]\n",
        "electric_types = poke.loc[poke['type_1'] == \"Electric\"]\n",
        "normal_types = poke.loc[poke['type_1'] == \"Normal\"]\n",
        "ground_types = poke.loc[poke['type_1'] == \"Ground\"]\n",
        "rock_types = poke.loc[poke['type_1'] == \"Rock\"]\n",
        "steel_types = poke.loc[poke['type_1'] == \"Steel\"]\n",
        "ice_types = poke.loc[poke['type_1'] == \"Ice\"]\n",
        "flying_types = poke.loc[poke['type_1'] == \"Flying\"]\n",
        "fighting_types = poke.loc[poke['type_1'] == \"Fighting\"]\n",
        "poison_types = poke.loc[poke['type_1'] == \"Poison\"]\n",
        "psychic_types = poke.loc[poke['type_1'] == \"Psychic\"]\n",
        "bug_types = poke.loc[poke['type_1'] == \"Bug\"]\n",
        "ghost_types = poke.loc[poke['type_1'] == \"Ghost\"]\n",
        "dark_types = poke.loc[poke['type_1'] == \"Dark\"]\n",
        "dragon_types = poke.loc[poke['type_1'] == \"Dragon\"]\n",
        "fairy_types = poke.loc[poke['type_1'] == \"Fair\"]"
      ],
      "execution_count": null,
      "outputs": []
    },
    {
      "cell_type": "code",
      "metadata": {
        "id": "Gsyih69Z_Rf1",
        "colab": {
          "base_uri": "https://localhost:8080/",
          "height": 548
        },
        "outputId": "a40d2d8f-d852-461a-f572-6338b07c13c2"
      },
      "source": [
        "gen1_fire = fire_types.loc[fire_types['generation'] == 1]\n",
        "gen2_fire = fire_types.loc[fire_types['generation'] == 2]\n",
        "gen3_fire = fire_types.loc[fire_types['generation'] == 3]\n",
        "gen4_fire = fire_types.loc[fire_types['generation'] == 4]\n",
        "gen5_fire = fire_types.loc[fire_types['generation'] == 5]\n",
        "gen6_fire = fire_types.loc[fire_types['generation'] == 6]\n",
        "gen7_fire = fire_types.loc[fire_types['generation'] == 7]\n",
        "gen8_fire = fire_types.loc[fire_types['generation'] == 8]\n",
        "\n",
        "stats_gen1_fire = gen1_fire.describe()\n",
        "\n",
        "plt.figure()\n",
        "plt.title(\"Fire Type pokemon base stats for Generation 1\")\n",
        "gen1_fire.plot(x='pokedex_number', y='total_points', kind='scatter')\n",
        "plt.show()"
      ],
      "execution_count": null,
      "outputs": [
        {
          "output_type": "display_data",
          "data": {
            "image/png": "[encoded data removed]",
            "text/plain": [
              "<Figure size 432x288 with 1 Axes>"
            ]
          },
          "metadata": {
            "needs_background": "light"
          }
        },
        {
          "output_type": "display_data",
          "data": {
            "image/png": "[encoded data removed]",
            "text/plain": [
              "<Figure size 432x288 with 1 Axes>"
            ]
          },
          "metadata": {
            "needs_background": "light"
          }
        }
      ]
    },
    {
      "cell_type": "code",
      "metadata": {
        "colab": {
          "base_uri": "https://localhost:8080/",
          "height": 282
        },
        "id": "G7_NQzvmDTfR",
        "outputId": "871bf25a-a549-4829-f76c-8c33e36df481"
      },
      "source": [
        "plt.scatter(fire_types['attack'], fire_types['hp'])"
      ],
      "execution_count": null,
      "outputs": [
        {
          "output_type": "execute_result",
          "data": {
            "text/plain": [
              "<matplotlib.collections.PathCollection at 0x7f4164753190>"
            ]
          },
          "metadata": {},
          "execution_count": 4
        },
        {
          "output_type": "display_data",
          "data": {
            "image/png": "[encoded data removed]",
            "text/plain": [
              "<Figure size 432x288 with 1 Axes>"
            ]
          },
          "metadata": {
            "needs_background": "light"
          }
        }
      ]
    },
    {
      "cell_type": "code",
      "metadata": {
        "colab": {
          "base_uri": "https://localhost:8080/"
        },
        "id": "QdvlUw2vI-1d",
        "outputId": "ff218caa-3c64-4808-e69f-a4ca306c984e"
      },
      "source": [
        "Atk_Data = pd.DataFrame()\n",
        "Atk_Data['attack'] = gen1_fire['attack']\n",
        "Atk_Data['hp'] = gen1_fire['hp']\n",
        "print(Atk_Data)\n"
      ],
      "execution_count": null,
      "outputs": [
        {
          "output_type": "stream",
          "name": "stdout",
          "text": [
            "     attack    hp\n",
            "4      52.0  39.0\n",
            "5      64.0  58.0\n",
            "6      84.0  78.0\n",
            "7     130.0  78.0\n",
            "8     104.0  78.0\n",
            "48     41.0  38.0\n",
            "50     76.0  73.0\n",
            "76     70.0  55.0\n",
            "77    110.0  90.0\n",
            "99     85.0  50.0\n",
            "101   100.0  65.0\n",
            "136    80.0  60.0\n",
            "160    95.0  65.0\n",
            "173   130.0  65.0\n",
            "184   100.0  90.0\n"
          ]
        }
      ]
    },
    {
      "cell_type": "code",
      "metadata": {
        "id": "XZI3I5xCU_nu"
      },
      "source": [
        "msk = np.random.rand(len(Atk_Data)) < 0.6\n",
        "\n",
        "Atk_Data_Train = Atk_Data[msk]\n",
        "Atk_Data_Test = Atk_Data[~msk]\n",
        "\n",
        "Atk_Data_Test_trainx = quad.fit_transform()\n",
        "\n"
      ],
      "execution_count": null,
      "outputs": []
    },
    {
      "cell_type": "code",
      "metadata": {
        "id": "r6Ar_ud__W9d"
      },
      "source": [
        "#%%\n",
        "# you can also read in by the chunk size incase your data set is extremely large\n",
        "#  example:\n",
        "#  for df in pd.read_csv(\"pokemon_data.csv\", chunksize=5)\n",
        "#       results = df.groupby(['Type 1']).count()\n",
        "#\n",
        "#       new_df = pd.concat([new_df, results])\n",
        "\n",
        "\n",
        "\n",
        "\n",
        "\n",
        "\n",
        "\n"
      ],
      "execution_count": null,
      "outputs": []
    },
    {
      "cell_type": "code",
      "metadata": {
        "id": "pSUBJide_aAF"
      },
      "source": [
        "#  printing certain column elements\n",
        "# print(poke[['Name', 'Type 1', '#']])\n",
        "\n"
      ],
      "execution_count": null,
      "outputs": []
    },
    {
      "cell_type": "code",
      "metadata": {
        "id": "Ya7SljpM_c0D"
      },
      "source": [
        "#%%\n",
        "# sort by col value, here we are sorting first by type 1 in order a->z then speed highest -> lowest\n",
        "# poke.sort_values(['Type 1', 'Speed'], ascending=[1, 1])\n"
      ],
      "execution_count": null,
      "outputs": []
    },
    {
      "cell_type": "code",
      "metadata": {
        "id": "BrDUjAov_fmk"
      },
      "source": [
        "#%%\n",
        "# finds location that matched; here we find all pokemon with type 1 of fire\n",
        "# print(poke.loc[poke['Type 1'] == \"Fire\" ] )\n"
      ],
      "execution_count": null,
      "outputs": []
    },
    {
      "cell_type": "code",
      "metadata": {
        "id": "jNF-hx3J_hQV"
      },
      "source": [
        "#%%\n",
        "# # creating a new col of base stat totals\n",
        "# poke[\"Stat Total\"] = poke.iloc[:, 4:10].sum(axis=1)  #poke['HP'] + poke['Attack'] + poke['Defense'] + poke['Sp. Atk'] + poke['Sp. Def'] + poke['Speed']\n",
        "# cols = list(poke.columns.values)\n",
        "# poke = poke[cols[0:10] + [cols[-1]] + cols[10:12]]\n",
        "# modified = poke.to_csv('modified_pokemon.csv', index=False)\n",
        "# print(count_type1)\n"
      ],
      "execution_count": null,
      "outputs": []
    },
    {
      "cell_type": "code",
      "metadata": {
        "id": "bVgE-A6Z_j-M"
      },
      "source": [
        "#%%\n",
        "# grouping by type1 with average attack\n",
        "# type1_atk = poke[['Type 1', 'Attack']]\n",
        "# avg_attack_by_type1 = type1_atk.groupby(['Type 1']).mean().sort_values('Attack', ascending=False)\n",
        "# avg_attack_by_type1.rename(columns={'Attack': 'Avg. Atk.'}, inplace=True)\n",
        "# avg_attack_by_type1.plot(kind='bar')\n",
        "# plt.show()"
      ],
      "execution_count": null,
      "outputs": []
    }
  ]
}